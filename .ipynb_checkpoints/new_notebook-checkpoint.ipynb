{
 "cells": [
  {
   "cell_type": "code",
   "execution_count": null,
   "id": "8c80fe0c",
   "metadata": {},
   "outputs": [],
   "source": [
    "https://github.com/simonbatzner/L-BFGS-Julia\n",
    "https://github.com/simonbatzner/L-BFGS-Julia/blob/master/L-BFGS_Project_Comp.ipynb\n",
    "https://simonbatzner.github.io/L-BFGS-Julia/\n",
    "https://github.com/JuliaNLSolvers/Optim.jl\n",
    "https://github.com/tomgoldstein/loss-landscape\n",
    "http://mth229.github.io/graphing.html"
   ]
  },
  {
   "cell_type": "code",
   "execution_count": 11,
   "id": "977dd372",
   "metadata": {},
   "outputs": [],
   "source": [
    "using Pkg\n",
    "Pkg.add(\"Optim\")\n",
    "Pkg.add(\"LineSearches\")\n",
    "Pkg.add(\"Plots\")"
   ]
  },
  {
   "cell_type": "code",
   "execution_count": 8,
   "id": "f39a0bd7",
   "metadata": {},
   "outputs": [
    {
     "data": {
      "image/svg+xml": [
       "<?xml version=\"1.0\" encoding=\"utf-8\"?>\n",
       "<svg xmlns=\"http://www.w3.org/2000/svg\" xmlns:xlink=\"http://www.w3.org/1999/xlink\" width=\"600\" height=\"400\" viewBox=\"0 0 2400 1600\">\n",
       "<defs>\n",
       "  <clipPath id=\"clip090\">\n",
       "    <rect x=\"0\" y=\"0\" width=\"2400\" height=\"1600\"/>\n",
       "  </clipPath>\n",
       "</defs>\n",
       "<path clip-path=\"url(#clip090)\" d=\"\n",
       "M0 1600 L2400 1600 L2400 0 L0 0  Z\n",
       "  \" fill=\"#ffffff\" fill-rule=\"evenodd\" fill-opacity=\"1\"/>\n",
       "<defs>\n",
       "  <clipPath id=\"clip091\">\n",
       "    <rect x=\"480\" y=\"0\" width=\"1681\" height=\"1600\"/>\n",
       "  </clipPath>\n",
       "</defs>\n",
       "<path clip-path=\"url(#clip090)\" d=\"\n",
       "M186.274 1486.45 L2352.76 1486.45 L2352.76 47.2441 L186.274 47.2441  Z\n",
       "  \" fill=\"#ffffff\" fill-rule=\"evenodd\" fill-opacity=\"1\"/>\n",
       "<defs>\n",
       "  <clipPath id=\"clip092\">\n",
       "    <rect x=\"186\" y=\"47\" width=\"2167\" height=\"1440\"/>\n",
       "  </clipPath>\n",
       "</defs>\n",
       "<polyline clip-path=\"url(#clip092)\" style=\"stroke:#000000; stroke-width:2; stroke-opacity:0.1; fill:none\" points=\"\n",
       "  247.59,1486.45 247.59,47.2441 \n",
       "  \"/>\n",
       "<polyline clip-path=\"url(#clip092)\" style=\"stroke:#000000; stroke-width:2; stroke-opacity:0.1; fill:none\" points=\"\n",
       "  588.231,1486.45 588.231,47.2441 \n",
       "  \"/>\n",
       "<polyline clip-path=\"url(#clip092)\" style=\"stroke:#000000; stroke-width:2; stroke-opacity:0.1; fill:none\" points=\"\n",
       "  928.873,1486.45 928.873,47.2441 \n",
       "  \"/>\n",
       "<polyline clip-path=\"url(#clip092)\" style=\"stroke:#000000; stroke-width:2; stroke-opacity:0.1; fill:none\" points=\"\n",
       "  1269.51,1486.45 1269.51,47.2441 \n",
       "  \"/>\n",
       "<polyline clip-path=\"url(#clip092)\" style=\"stroke:#000000; stroke-width:2; stroke-opacity:0.1; fill:none\" points=\"\n",
       "  1610.16,1486.45 1610.16,47.2441 \n",
       "  \"/>\n",
       "<polyline clip-path=\"url(#clip092)\" style=\"stroke:#000000; stroke-width:2; stroke-opacity:0.1; fill:none\" points=\"\n",
       "  1950.8,1486.45 1950.8,47.2441 \n",
       "  \"/>\n",
       "<polyline clip-path=\"url(#clip092)\" style=\"stroke:#000000; stroke-width:2; stroke-opacity:0.1; fill:none\" points=\"\n",
       "  2291.44,1486.45 2291.44,47.2441 \n",
       "  \"/>\n",
       "<polyline clip-path=\"url(#clip090)\" style=\"stroke:#000000; stroke-width:4; stroke-opacity:1; fill:none\" points=\"\n",
       "  186.274,1486.45 2352.76,1486.45 \n",
       "  \"/>\n",
       "<polyline clip-path=\"url(#clip090)\" style=\"stroke:#000000; stroke-width:4; stroke-opacity:1; fill:none\" points=\"\n",
       "  247.59,1486.45 247.59,1469.18 \n",
       "  \"/>\n",
       "<polyline clip-path=\"url(#clip090)\" style=\"stroke:#000000; stroke-width:4; stroke-opacity:1; fill:none\" points=\"\n",
       "  588.231,1486.45 588.231,1469.18 \n",
       "  \"/>\n",
       "<polyline clip-path=\"url(#clip090)\" style=\"stroke:#000000; stroke-width:4; stroke-opacity:1; fill:none\" points=\"\n",
       "  928.873,1486.45 928.873,1469.18 \n",
       "  \"/>\n",
       "<polyline clip-path=\"url(#clip090)\" style=\"stroke:#000000; stroke-width:4; stroke-opacity:1; fill:none\" points=\"\n",
       "  1269.51,1486.45 1269.51,1469.18 \n",
       "  \"/>\n",
       "<polyline clip-path=\"url(#clip090)\" style=\"stroke:#000000; stroke-width:4; stroke-opacity:1; fill:none\" points=\"\n",
       "  1610.16,1486.45 1610.16,1469.18 \n",
       "  \"/>\n",
       "<polyline clip-path=\"url(#clip090)\" style=\"stroke:#000000; stroke-width:4; stroke-opacity:1; fill:none\" points=\"\n",
       "  1950.8,1486.45 1950.8,1469.18 \n",
       "  \"/>\n",
       "<polyline clip-path=\"url(#clip090)\" style=\"stroke:#000000; stroke-width:4; stroke-opacity:1; fill:none\" points=\"\n",
       "  2291.44,1486.45 2291.44,1469.18 \n",
       "  \"/>\n",
       "<path clip-path=\"url(#clip090)\" d=\"M 0 0 M217.057 1530.29 L246.733 1530.29 L246.733 1534.23 L217.057 1534.23 L217.057 1530.29 Z\" fill=\"#000000\" fill-rule=\"evenodd\" fill-opacity=\"1\" /><path clip-path=\"url(#clip090)\" d=\"M 0 0 M270.992 1528.49 Q274.349 1529.2 276.224 1531.47 Q278.122 1533.74 278.122 1537.07 Q278.122 1542.19 274.603 1544.99 Q271.085 1547.79 264.603 1547.79 Q262.427 1547.79 260.113 1547.35 Q257.821 1546.93 255.367 1546.08 L255.367 1541.56 Q257.312 1542.7 259.626 1543.28 Q261.941 1543.86 264.464 1543.86 Q268.863 1543.86 271.154 1542.12 Q273.469 1540.38 273.469 1537.07 Q273.469 1534.02 271.316 1532.31 Q269.187 1530.57 265.367 1530.57 L261.339 1530.57 L261.339 1526.73 L265.552 1526.73 Q269.001 1526.73 270.83 1525.36 Q272.659 1523.97 272.659 1521.38 Q272.659 1518.72 270.761 1517.31 Q268.886 1515.87 265.367 1515.87 Q263.446 1515.87 261.247 1516.29 Q259.048 1516.7 256.409 1517.58 L256.409 1513.42 Q259.071 1512.68 261.386 1512.31 Q263.724 1511.93 265.784 1511.93 Q271.108 1511.93 274.21 1514.37 Q277.312 1516.77 277.312 1520.89 Q277.312 1523.76 275.668 1525.75 Q274.025 1527.72 270.992 1528.49 Z\" fill=\"#000000\" fill-rule=\"evenodd\" fill-opacity=\"1\" /><path clip-path=\"url(#clip090)\" d=\"M 0 0 M558.174 1530.29 L587.849 1530.29 L587.849 1534.23 L558.174 1534.23 L558.174 1530.29 Z\" fill=\"#000000\" fill-rule=\"evenodd\" fill-opacity=\"1\" /><path clip-path=\"url(#clip090)\" d=\"M 0 0 M601.97 1543.18 L618.289 1543.18 L618.289 1547.12 L596.345 1547.12 L596.345 1543.18 Q599.007 1540.43 603.59 1535.8 Q608.197 1531.15 609.377 1529.81 Q611.622 1527.28 612.502 1525.55 Q613.405 1523.79 613.405 1522.1 Q613.405 1519.34 611.46 1517.61 Q609.539 1515.87 606.437 1515.87 Q604.238 1515.87 601.785 1516.63 Q599.354 1517.4 596.576 1518.95 L596.576 1514.23 Q599.4 1513.09 601.854 1512.51 Q604.308 1511.93 606.345 1511.93 Q611.715 1511.93 614.909 1514.62 Q618.104 1517.31 618.104 1521.8 Q618.104 1523.93 617.294 1525.85 Q616.507 1527.74 614.4 1530.34 Q613.821 1531.01 610.72 1534.23 Q607.618 1537.42 601.97 1543.18 Z\" fill=\"#000000\" fill-rule=\"evenodd\" fill-opacity=\"1\" /><path clip-path=\"url(#clip090)\" d=\"M 0 0 M898.63 1530.29 L928.306 1530.29 L928.306 1534.23 L898.63 1534.23 L898.63 1530.29 Z\" fill=\"#000000\" fill-rule=\"evenodd\" fill-opacity=\"1\" /><path clip-path=\"url(#clip090)\" d=\"M 0 0 M939.209 1543.18 L946.848 1543.18 L946.848 1516.82 L938.537 1518.49 L938.537 1514.23 L946.801 1512.56 L951.477 1512.56 L951.477 1543.18 L959.116 1543.18 L959.116 1547.12 L939.209 1547.12 L939.209 1543.18 Z\" fill=\"#000000\" fill-rule=\"evenodd\" fill-opacity=\"1\" /><path clip-path=\"url(#clip090)\" d=\"M 0 0 M1269.51 1515.64 Q1265.9 1515.64 1264.08 1519.2 Q1262.27 1522.75 1262.27 1529.87 Q1262.27 1536.98 1264.08 1540.55 Q1265.9 1544.09 1269.51 1544.09 Q1273.15 1544.09 1274.95 1540.55 Q1276.78 1536.98 1276.78 1529.87 Q1276.78 1522.75 1274.95 1519.2 Q1273.15 1515.64 1269.51 1515.64 M1269.51 1511.93 Q1275.33 1511.93 1278.38 1516.54 Q1281.46 1521.12 1281.46 1529.87 Q1281.46 1538.6 1278.38 1543.21 Q1275.33 1547.79 1269.51 1547.79 Q1263.7 1547.79 1260.63 1543.21 Q1257.57 1538.6 1257.57 1529.87 Q1257.57 1521.12 1260.63 1516.54 Q1263.7 1511.93 1269.51 1511.93 Z\" fill=\"#000000\" fill-rule=\"evenodd\" fill-opacity=\"1\" /><path clip-path=\"url(#clip090)\" d=\"M 0 0 M1600.54 1543.18 L1608.18 1543.18 L1608.18 1516.82 L1599.87 1518.49 L1599.87 1514.23 L1608.13 1512.56 L1612.81 1512.56 L1612.81 1543.18 L1620.45 1543.18 L1620.45 1547.12 L1600.54 1547.12 L1600.54 1543.18 Z\" fill=\"#000000\" fill-rule=\"evenodd\" fill-opacity=\"1\" /><path clip-path=\"url(#clip090)\" d=\"M 0 0 M1945.45 1543.18 L1961.77 1543.18 L1961.77 1547.12 L1939.83 1547.12 L1939.83 1543.18 Q1942.49 1540.43 1947.07 1535.8 Q1951.68 1531.15 1952.86 1529.81 Q1955.1 1527.28 1955.98 1525.55 Q1956.89 1523.79 1956.89 1522.1 Q1956.89 1519.34 1954.94 1517.61 Q1953.02 1515.87 1949.92 1515.87 Q1947.72 1515.87 1945.27 1516.63 Q1942.84 1517.4 1940.06 1518.95 L1940.06 1514.23 Q1942.88 1513.09 1945.34 1512.51 Q1947.79 1511.93 1949.83 1511.93 Q1955.2 1511.93 1958.39 1514.62 Q1961.59 1517.31 1961.59 1521.8 Q1961.59 1523.93 1960.78 1525.85 Q1959.99 1527.74 1957.88 1530.34 Q1957.3 1531.01 1954.2 1534.23 Q1951.1 1537.42 1945.45 1543.18 Z\" fill=\"#000000\" fill-rule=\"evenodd\" fill-opacity=\"1\" /><path clip-path=\"url(#clip090)\" d=\"M 0 0 M2295.69 1528.49 Q2299.04 1529.2 2300.92 1531.47 Q2302.82 1533.74 2302.82 1537.07 Q2302.82 1542.19 2299.3 1544.99 Q2295.78 1547.79 2289.3 1547.79 Q2287.12 1547.79 2284.81 1547.35 Q2282.52 1546.93 2280.06 1546.08 L2280.06 1541.56 Q2282.01 1542.7 2284.32 1543.28 Q2286.64 1543.86 2289.16 1543.86 Q2293.56 1543.86 2295.85 1542.12 Q2298.16 1540.38 2298.16 1537.07 Q2298.16 1534.02 2296.01 1532.31 Q2293.88 1530.57 2290.06 1530.57 L2286.04 1530.57 L2286.04 1526.73 L2290.25 1526.73 Q2293.7 1526.73 2295.53 1525.36 Q2297.35 1523.97 2297.35 1521.38 Q2297.35 1518.72 2295.46 1517.31 Q2293.58 1515.87 2290.06 1515.87 Q2288.14 1515.87 2285.94 1516.29 Q2283.74 1516.7 2281.1 1517.58 L2281.1 1513.42 Q2283.77 1512.68 2286.08 1512.31 Q2288.42 1511.93 2290.48 1511.93 Q2295.8 1511.93 2298.91 1514.37 Q2302.01 1516.77 2302.01 1520.89 Q2302.01 1523.76 2300.36 1525.75 Q2298.72 1527.72 2295.69 1528.49 Z\" fill=\"#000000\" fill-rule=\"evenodd\" fill-opacity=\"1\" /><polyline clip-path=\"url(#clip092)\" style=\"stroke:#000000; stroke-width:2; stroke-opacity:0.1; fill:none\" points=\"\n",
       "  186.274,1460.97 2352.76,1460.97 \n",
       "  \"/>\n",
       "<polyline clip-path=\"url(#clip092)\" style=\"stroke:#000000; stroke-width:2; stroke-opacity:0.1; fill:none\" points=\"\n",
       "  186.274,1117.68 2352.76,1117.68 \n",
       "  \"/>\n",
       "<polyline clip-path=\"url(#clip092)\" style=\"stroke:#000000; stroke-width:2; stroke-opacity:0.1; fill:none\" points=\"\n",
       "  186.274,774.398 2352.76,774.398 \n",
       "  \"/>\n",
       "<polyline clip-path=\"url(#clip092)\" style=\"stroke:#000000; stroke-width:2; stroke-opacity:0.1; fill:none\" points=\"\n",
       "  186.274,431.112 2352.76,431.112 \n",
       "  \"/>\n",
       "<polyline clip-path=\"url(#clip092)\" style=\"stroke:#000000; stroke-width:2; stroke-opacity:0.1; fill:none\" points=\"\n",
       "  186.274,87.8258 2352.76,87.8258 \n",
       "  \"/>\n",
       "<polyline clip-path=\"url(#clip090)\" style=\"stroke:#000000; stroke-width:4; stroke-opacity:1; fill:none\" points=\"\n",
       "  186.274,1486.45 186.274,47.2441 \n",
       "  \"/>\n",
       "<polyline clip-path=\"url(#clip090)\" style=\"stroke:#000000; stroke-width:4; stroke-opacity:1; fill:none\" points=\"\n",
       "  186.274,1460.97 212.272,1460.97 \n",
       "  \"/>\n",
       "<polyline clip-path=\"url(#clip090)\" style=\"stroke:#000000; stroke-width:4; stroke-opacity:1; fill:none\" points=\"\n",
       "  186.274,1117.68 212.272,1117.68 \n",
       "  \"/>\n",
       "<polyline clip-path=\"url(#clip090)\" style=\"stroke:#000000; stroke-width:4; stroke-opacity:1; fill:none\" points=\"\n",
       "  186.274,774.398 212.272,774.398 \n",
       "  \"/>\n",
       "<polyline clip-path=\"url(#clip090)\" style=\"stroke:#000000; stroke-width:4; stroke-opacity:1; fill:none\" points=\"\n",
       "  186.274,431.112 212.272,431.112 \n",
       "  \"/>\n",
       "<polyline clip-path=\"url(#clip090)\" style=\"stroke:#000000; stroke-width:4; stroke-opacity:1; fill:none\" points=\"\n",
       "  186.274,87.8258 212.272,87.8258 \n",
       "  \"/>\n",
       "<path clip-path=\"url(#clip090)\" d=\"M 0 0 M62.9365 1446.77 Q59.3254 1446.77 57.4967 1450.33 Q55.6912 1453.88 55.6912 1461 Q55.6912 1468.11 57.4967 1471.68 Q59.3254 1475.22 62.9365 1475.22 Q66.5707 1475.22 68.3763 1471.68 Q70.205 1468.11 70.205 1461 Q70.205 1453.88 68.3763 1450.33 Q66.5707 1446.77 62.9365 1446.77 M62.9365 1443.06 Q68.7467 1443.06 71.8022 1447.67 Q74.8809 1452.25 74.8809 1461 Q74.8809 1469.73 71.8022 1474.34 Q68.7467 1478.92 62.9365 1478.92 Q57.1264 1478.92 54.0477 1474.34 Q50.9921 1469.73 50.9921 1461 Q50.9921 1452.25 54.0477 1447.67 Q57.1264 1443.06 62.9365 1443.06 Z\" fill=\"#000000\" fill-rule=\"evenodd\" fill-opacity=\"1\" /><path clip-path=\"url(#clip090)\" d=\"M 0 0 M83.0984 1472.37 L87.9827 1472.37 L87.9827 1478.25 L83.0984 1478.25 L83.0984 1472.37 Z\" fill=\"#000000\" fill-rule=\"evenodd\" fill-opacity=\"1\" /><path clip-path=\"url(#clip090)\" d=\"M 0 0 M108.168 1446.77 Q104.557 1446.77 102.728 1450.33 Q100.922 1453.88 100.922 1461 Q100.922 1468.11 102.728 1471.68 Q104.557 1475.22 108.168 1475.22 Q111.802 1475.22 113.608 1471.68 Q115.436 1468.11 115.436 1461 Q115.436 1453.88 113.608 1450.33 Q111.802 1446.77 108.168 1446.77 M108.168 1443.06 Q113.978 1443.06 117.033 1447.67 Q120.112 1452.25 120.112 1461 Q120.112 1469.73 117.033 1474.34 Q113.978 1478.92 108.168 1478.92 Q102.358 1478.92 99.2789 1474.34 Q96.2234 1469.73 96.2234 1461 Q96.2234 1452.25 99.2789 1447.67 Q102.358 1443.06 108.168 1443.06 Z\" fill=\"#000000\" fill-rule=\"evenodd\" fill-opacity=\"1\" /><path clip-path=\"url(#clip090)\" d=\"M 0 0 M138.33 1446.77 Q134.719 1446.77 132.89 1450.33 Q131.084 1453.88 131.084 1461 Q131.084 1468.11 132.89 1471.68 Q134.719 1475.22 138.33 1475.22 Q141.964 1475.22 143.769 1471.68 Q145.598 1468.11 145.598 1461 Q145.598 1453.88 143.769 1450.33 Q141.964 1446.77 138.33 1446.77 M138.33 1443.06 Q144.14 1443.06 147.195 1447.67 Q150.274 1452.25 150.274 1461 Q150.274 1469.73 147.195 1474.34 Q144.14 1478.92 138.33 1478.92 Q132.519 1478.92 129.441 1474.34 Q126.385 1469.73 126.385 1461 Q126.385 1452.25 129.441 1447.67 Q132.519 1443.06 138.33 1443.06 Z\" fill=\"#000000\" fill-rule=\"evenodd\" fill-opacity=\"1\" /><path clip-path=\"url(#clip090)\" d=\"M 0 0 M63.9319 1103.48 Q60.3208 1103.48 58.4921 1107.05 Q56.6865 1110.59 56.6865 1117.72 Q56.6865 1124.83 58.4921 1128.39 Q60.3208 1131.93 63.9319 1131.93 Q67.5661 1131.93 69.3717 1128.39 Q71.2004 1124.83 71.2004 1117.72 Q71.2004 1110.59 69.3717 1107.05 Q67.5661 1103.48 63.9319 1103.48 M63.9319 1099.78 Q69.742 1099.78 72.7976 1104.39 Q75.8763 1108.97 75.8763 1117.72 Q75.8763 1126.45 72.7976 1131.05 Q69.742 1135.64 63.9319 1135.64 Q58.1217 1135.64 55.043 1131.05 Q51.9875 1126.45 51.9875 1117.72 Q51.9875 1108.97 55.043 1104.39 Q58.1217 1099.78 63.9319 1099.78 Z\" fill=\"#000000\" fill-rule=\"evenodd\" fill-opacity=\"1\" /><path clip-path=\"url(#clip090)\" d=\"M 0 0 M84.0938 1129.08 L88.978 1129.08 L88.978 1134.96 L84.0938 1134.96 L84.0938 1129.08 Z\" fill=\"#000000\" fill-rule=\"evenodd\" fill-opacity=\"1\" /><path clip-path=\"url(#clip090)\" d=\"M 0 0 M103.191 1131.03 L119.51 1131.03 L119.51 1134.96 L97.566 1134.96 L97.566 1131.03 Q100.228 1128.27 104.811 1123.64 Q109.418 1118.99 110.598 1117.65 Q112.844 1115.13 113.723 1113.39 Q114.626 1111.63 114.626 1109.94 Q114.626 1107.19 112.682 1105.45 Q110.76 1103.71 107.658 1103.71 Q105.459 1103.71 103.006 1104.48 Q100.575 1105.24 97.7974 1106.79 L97.7974 1102.07 Q100.621 1100.94 103.075 1100.36 Q105.529 1099.78 107.566 1099.78 Q112.936 1099.78 116.131 1102.46 Q119.325 1105.15 119.325 1109.64 Q119.325 1111.77 118.515 1113.69 Q117.728 1115.59 115.621 1118.18 Q115.043 1118.85 111.941 1122.07 Q108.839 1125.26 103.191 1131.03 Z\" fill=\"#000000\" fill-rule=\"evenodd\" fill-opacity=\"1\" /><path clip-path=\"url(#clip090)\" d=\"M 0 0 M129.371 1100.4 L147.728 1100.4 L147.728 1104.34 L133.654 1104.34 L133.654 1112.81 Q134.672 1112.46 135.691 1112.3 Q136.709 1112.12 137.728 1112.12 Q143.515 1112.12 146.894 1115.29 Q150.274 1118.46 150.274 1123.88 Q150.274 1129.45 146.802 1132.56 Q143.33 1135.64 137.01 1135.64 Q134.834 1135.64 132.566 1135.26 Q130.32 1134.89 127.913 1134.15 L127.913 1129.45 Q129.996 1130.59 132.219 1131.14 Q134.441 1131.7 136.918 1131.7 Q140.922 1131.7 143.26 1129.59 Q145.598 1127.49 145.598 1123.88 Q145.598 1120.26 143.26 1118.16 Q140.922 1116.05 136.918 1116.05 Q135.043 1116.05 133.168 1116.47 Q131.316 1116.89 129.371 1117.76 L129.371 1100.4 Z\" fill=\"#000000\" fill-rule=\"evenodd\" fill-opacity=\"1\" /><path clip-path=\"url(#clip090)\" d=\"M 0 0 M62.9365 760.197 Q59.3254 760.197 57.4967 763.761 Q55.6912 767.303 55.6912 774.433 Q55.6912 781.539 57.4967 785.104 Q59.3254 788.645 62.9365 788.645 Q66.5707 788.645 68.3763 785.104 Q70.205 781.539 70.205 774.433 Q70.205 767.303 68.3763 763.761 Q66.5707 760.197 62.9365 760.197 M62.9365 756.493 Q68.7467 756.493 71.8022 761.099 Q74.8809 765.683 74.8809 774.433 Q74.8809 783.159 71.8022 787.766 Q68.7467 792.349 62.9365 792.349 Q57.1264 792.349 54.0477 787.766 Q50.9921 783.159 50.9921 774.433 Q50.9921 765.683 54.0477 761.099 Q57.1264 756.493 62.9365 756.493 Z\" fill=\"#000000\" fill-rule=\"evenodd\" fill-opacity=\"1\" /><path clip-path=\"url(#clip090)\" d=\"M 0 0 M83.0984 785.798 L87.9827 785.798 L87.9827 791.678 L83.0984 791.678 L83.0984 785.798 Z\" fill=\"#000000\" fill-rule=\"evenodd\" fill-opacity=\"1\" /><path clip-path=\"url(#clip090)\" d=\"M 0 0 M98.2141 757.118 L116.57 757.118 L116.57 761.053 L102.496 761.053 L102.496 769.525 Q103.515 769.178 104.534 769.016 Q105.552 768.831 106.571 768.831 Q112.358 768.831 115.737 772.002 Q119.117 775.173 119.117 780.59 Q119.117 786.169 115.645 789.27 Q112.172 792.349 105.853 792.349 Q103.677 792.349 101.409 791.979 Q99.1632 791.608 96.7558 790.868 L96.7558 786.169 Q98.8391 787.303 101.061 787.858 Q103.284 788.414 105.76 788.414 Q109.765 788.414 112.103 786.308 Q114.441 784.201 114.441 780.59 Q114.441 776.979 112.103 774.872 Q109.765 772.766 105.76 772.766 Q103.885 772.766 102.01 773.183 Q100.159 773.599 98.2141 774.479 L98.2141 757.118 Z\" fill=\"#000000\" fill-rule=\"evenodd\" fill-opacity=\"1\" /><path clip-path=\"url(#clip090)\" d=\"M 0 0 M138.33 760.197 Q134.719 760.197 132.89 763.761 Q131.084 767.303 131.084 774.433 Q131.084 781.539 132.89 785.104 Q134.719 788.645 138.33 788.645 Q141.964 788.645 143.769 785.104 Q145.598 781.539 145.598 774.433 Q145.598 767.303 143.769 763.761 Q141.964 760.197 138.33 760.197 M138.33 756.493 Q144.14 756.493 147.195 761.099 Q150.274 765.683 150.274 774.433 Q150.274 783.159 147.195 787.766 Q144.14 792.349 138.33 792.349 Q132.519 792.349 129.441 787.766 Q126.385 783.159 126.385 774.433 Q126.385 765.683 129.441 761.099 Q132.519 756.493 138.33 756.493 Z\" fill=\"#000000\" fill-rule=\"evenodd\" fill-opacity=\"1\" /><path clip-path=\"url(#clip090)\" d=\"M 0 0 M63.9319 416.911 Q60.3208 416.911 58.4921 420.475 Q56.6865 424.017 56.6865 431.147 Q56.6865 438.253 58.4921 441.818 Q60.3208 445.359 63.9319 445.359 Q67.5661 445.359 69.3717 441.818 Q71.2004 438.253 71.2004 431.147 Q71.2004 424.017 69.3717 420.475 Q67.5661 416.911 63.9319 416.911 M63.9319 413.207 Q69.742 413.207 72.7976 417.813 Q75.8763 422.397 75.8763 431.147 Q75.8763 439.873 72.7976 444.48 Q69.742 449.063 63.9319 449.063 Q58.1217 449.063 55.043 444.48 Q51.9875 439.873 51.9875 431.147 Q51.9875 422.397 55.043 417.813 Q58.1217 413.207 63.9319 413.207 Z\" fill=\"#000000\" fill-rule=\"evenodd\" fill-opacity=\"1\" /><path clip-path=\"url(#clip090)\" d=\"M 0 0 M84.0938 442.512 L88.978 442.512 L88.978 448.392 L84.0938 448.392 L84.0938 442.512 Z\" fill=\"#000000\" fill-rule=\"evenodd\" fill-opacity=\"1\" /><path clip-path=\"url(#clip090)\" d=\"M 0 0 M97.9826 413.832 L120.205 413.832 L120.205 415.823 L107.658 448.392 L102.774 448.392 L114.58 417.767 L97.9826 417.767 L97.9826 413.832 Z\" fill=\"#000000\" fill-rule=\"evenodd\" fill-opacity=\"1\" /><path clip-path=\"url(#clip090)\" d=\"M 0 0 M129.371 413.832 L147.728 413.832 L147.728 417.767 L133.654 417.767 L133.654 426.239 Q134.672 425.892 135.691 425.73 Q136.709 425.545 137.728 425.545 Q143.515 425.545 146.894 428.716 Q150.274 431.887 150.274 437.304 Q150.274 442.883 146.802 445.984 Q143.33 449.063 137.01 449.063 Q134.834 449.063 132.566 448.693 Q130.32 448.322 127.913 447.582 L127.913 442.883 Q129.996 444.017 132.219 444.572 Q134.441 445.128 136.918 445.128 Q140.922 445.128 143.26 443.021 Q145.598 440.915 145.598 437.304 Q145.598 433.693 143.26 431.586 Q140.922 429.48 136.918 429.48 Q135.043 429.48 133.168 429.897 Q131.316 430.313 129.371 431.193 L129.371 413.832 Z\" fill=\"#000000\" fill-rule=\"evenodd\" fill-opacity=\"1\" /><path clip-path=\"url(#clip090)\" d=\"M 0 0 M53.7467 101.171 L61.3856 101.171 L61.3856 74.805 L53.0754 76.4717 L53.0754 72.2124 L61.3393 70.5458 L66.0152 70.5458 L66.0152 101.171 L73.654 101.171 L73.654 105.106 L53.7467 105.106 L53.7467 101.171 Z\" fill=\"#000000\" fill-rule=\"evenodd\" fill-opacity=\"1\" /><path clip-path=\"url(#clip090)\" d=\"M 0 0 M83.0984 99.2262 L87.9827 99.2262 L87.9827 105.106 L83.0984 105.106 L83.0984 99.2262 Z\" fill=\"#000000\" fill-rule=\"evenodd\" fill-opacity=\"1\" /><path clip-path=\"url(#clip090)\" d=\"M 0 0 M108.168 73.6245 Q104.557 73.6245 102.728 77.1893 Q100.922 80.7309 100.922 87.8605 Q100.922 94.9669 102.728 98.5317 Q104.557 102.073 108.168 102.073 Q111.802 102.073 113.608 98.5317 Q115.436 94.9669 115.436 87.8605 Q115.436 80.7309 113.608 77.1893 Q111.802 73.6245 108.168 73.6245 M108.168 69.9208 Q113.978 69.9208 117.033 74.5272 Q120.112 79.1105 120.112 87.8605 Q120.112 96.5873 117.033 101.194 Q113.978 105.777 108.168 105.777 Q102.358 105.777 99.2789 101.194 Q96.2234 96.5873 96.2234 87.8605 Q96.2234 79.1105 99.2789 74.5272 Q102.358 69.9208 108.168 69.9208 Z\" fill=\"#000000\" fill-rule=\"evenodd\" fill-opacity=\"1\" /><path clip-path=\"url(#clip090)\" d=\"M 0 0 M138.33 73.6245 Q134.719 73.6245 132.89 77.1893 Q131.084 80.7309 131.084 87.8605 Q131.084 94.9669 132.89 98.5317 Q134.719 102.073 138.33 102.073 Q141.964 102.073 143.769 98.5317 Q145.598 94.9669 145.598 87.8605 Q145.598 80.7309 143.769 77.1893 Q141.964 73.6245 138.33 73.6245 M138.33 69.9208 Q144.14 69.9208 147.195 74.5272 Q150.274 79.1105 150.274 87.8605 Q150.274 96.5873 147.195 101.194 Q144.14 105.777 138.33 105.777 Q132.519 105.777 129.441 101.194 Q126.385 96.5873 126.385 87.8605 Q126.385 79.1105 129.441 74.5272 Q132.519 69.9208 138.33 69.9208 Z\" fill=\"#000000\" fill-rule=\"evenodd\" fill-opacity=\"1\" /><polyline clip-path=\"url(#clip092)\" style=\"stroke:#009af9; stroke-width:4; stroke-opacity:1; fill:none\" points=\"\n",
       "  247.59,1445.72 257.569,1444.32 267.549,1442.82 359.828,1422.15 452.107,1383.82 479.835,1367.48 507.563,1348.44 535.291,1326.42 563.019,1301.14 609.906,1250.34 \n",
       "  656.793,1188.6 707.726,1108.52 758.658,1014.97 805.614,917.731 852.569,811.751 902.91,691.473 953.251,568.616 1011.58,430.085 1069.9,304.456 1095.82,255.224 \n",
       "  1121.73,211.151 1147.65,172.944 1173.57,141.231 1196.29,119.185 1219.02,102.83 1241.75,92.381 1264.47,87.9763 1289.25,90.1281 1314.03,99.4989 1338.8,115.941 \n",
       "  1363.58,139.196 1388.51,169.099 1413.43,205.066 1438.36,246.552 1463.28,292.938 1518.4,409.494 1573.51,538.877 1625.95,666.711 1678.39,792.846 1732.92,916.655 \n",
       "  1787.45,1028.74 1833.35,1111.99 1879.25,1184.28 1935.28,1257.62 1991.32,1315.52 2044,1357.4 2096.68,1388.97 2181.07,1422.71 2265.46,1441.85 2278.45,1443.88 \n",
       "  2291.44,1445.72 \n",
       "  \"/>\n",
       "<path clip-path=\"url(#clip090)\" d=\"\n",
       "M1987.39 216.178 L2280.54 216.178 L2280.54 95.2176 L1987.39 95.2176  Z\n",
       "  \" fill=\"#ffffff\" fill-rule=\"evenodd\" fill-opacity=\"1\"/>\n",
       "<polyline clip-path=\"url(#clip090)\" style=\"stroke:#000000; stroke-width:4; stroke-opacity:1; fill:none\" points=\"\n",
       "  1987.39,216.178 2280.54,216.178 2280.54,95.2176 1987.39,95.2176 1987.39,216.178 \n",
       "  \"/>\n",
       "<polyline clip-path=\"url(#clip090)\" style=\"stroke:#009af9; stroke-width:4; stroke-opacity:1; fill:none\" points=\"\n",
       "  2011.46,155.698 2155.89,155.698 \n",
       "  \"/>\n",
       "<path clip-path=\"url(#clip090)\" d=\"M 0 0 M2193.81 175.385 Q2192 180.015 2190.29 181.427 Q2188.58 182.839 2185.71 182.839 L2182.3 182.839 L2182.3 179.274 L2184.8 179.274 Q2186.56 179.274 2187.53 178.44 Q2188.51 177.607 2189.69 174.505 L2190.45 172.561 L2179.97 147.052 L2184.48 147.052 L2192.58 167.329 L2200.68 147.052 L2205.2 147.052 L2193.81 175.385 Z\" fill=\"#000000\" fill-rule=\"evenodd\" fill-opacity=\"1\" /><path clip-path=\"url(#clip090)\" d=\"M 0 0 M2212.49 169.042 L2220.13 169.042 L2220.13 142.677 L2211.82 144.343 L2211.82 140.084 L2220.08 138.418 L2224.76 138.418 L2224.76 169.042 L2232.4 169.042 L2232.4 172.978 L2212.49 172.978 L2212.49 169.042 Z\" fill=\"#000000\" fill-rule=\"evenodd\" fill-opacity=\"1\" /></svg>\n"
      ]
     },
     "execution_count": 8,
     "metadata": {},
     "output_type": "execute_result"
    }
   ],
   "source": [
    "using Optim, LineSearches, Plots\n",
    "f(x) = exp(-x^2/2)\n",
    "plot(f, -3, 3)"
   ]
  },
  {
   "cell_type": "markdown",
   "id": "8780704c",
   "metadata": {},
   "source": [
    "# JUST a HEADLINE"
   ]
  },
  {
   "cell_type": "code",
   "execution_count": 9,
   "id": "be7d67dd",
   "metadata": {
    "scrolled": true
   },
   "outputs": [
    {
     "ename": "LoadError",
     "evalue": "MethodError: no method matching ^(::Vector{Float64}, ::Int64)\n\u001b[0mClosest candidates are:\n\u001b[0m  ^(\u001b[91m::Union{AbstractChar, AbstractString}\u001b[39m, ::Integer) at strings/basic.jl:718\n\u001b[0m  ^(\u001b[91m::Complex{var\"#s79\"} where var\"#s79\"<:AbstractFloat\u001b[39m, ::Integer) at complex.jl:818\n\u001b[0m  ^(\u001b[91m::Complex{var\"#s79\"} where var\"#s79\"<:Integer\u001b[39m, ::Integer) at complex.jl:820\n\u001b[0m  ...",
     "output_type": "error",
     "traceback": [
      "MethodError: no method matching ^(::Vector{Float64}, ::Int64)\n\u001b[0mClosest candidates are:\n\u001b[0m  ^(\u001b[91m::Union{AbstractChar, AbstractString}\u001b[39m, ::Integer) at strings/basic.jl:718\n\u001b[0m  ^(\u001b[91m::Complex{var\"#s79\"} where var\"#s79\"<:AbstractFloat\u001b[39m, ::Integer) at complex.jl:818\n\u001b[0m  ^(\u001b[91m::Complex{var\"#s79\"} where var\"#s79\"<:Integer\u001b[39m, ::Integer) at complex.jl:820\n\u001b[0m  ...",
      "",
      "Stacktrace:",
      "  [1] macro expansion",
      "    @ ./none:0 [inlined]",
      "  [2] literal_pow",
      "    @ ./none:0 [inlined]",
      "  [3] f(x::Vector{Float64})",
      "    @ Main ./In[8]:2",
      "  [4] value!!(obj::NonDifferentiable{Float64, Vector{Float64}}, x::Vector{Float64})",
      "    @ NLSolversBase ~/.julia/packages/NLSolversBase/geyh3/src/interface.jl:9",
      "  [5] initial_state(method::NelderMead{Optim.AffineSimplexer, Optim.AdaptiveParameters}, options::Optim.Options{Float64, Nothing}, d::NonDifferentiable{Float64, Vector{Float64}}, initial_x::Vector{Float64})",
      "    @ Optim ~/.julia/packages/Optim/uwNqi/src/multivariate/solvers/zeroth_order/nelder_mead.jl:171",
      "  [6] optimize(d::NonDifferentiable{Float64, Vector{Float64}}, initial_x::Vector{Float64}, method::NelderMead{Optim.AffineSimplexer, Optim.AdaptiveParameters}, options::Optim.Options{Float64, Nothing})",
      "    @ Optim ~/.julia/packages/Optim/uwNqi/src/multivariate/optimize/optimize.jl:35",
      "  [7] optimize(f::Function, initial_x::Vector{Float64}; inplace::Bool, autodiff::Symbol, kwargs::Base.Iterators.Pairs{Union{}, Union{}, Tuple{}, NamedTuple{(), Tuple{}}})",
      "    @ Optim ~/.julia/packages/Optim/uwNqi/src/multivariate/optimize/interface.jl:90",
      "  [8] optimize(f::Function, initial_x::Vector{Float64})",
      "    @ Optim ~/.julia/packages/Optim/uwNqi/src/multivariate/optimize/interface.jl:84",
      "  [9] top-level scope",
      "    @ ./timing.jl:321 [inlined]",
      " [10] top-level scope",
      "    @ ./In[9]:0",
      " [11] eval",
      "    @ ./boot.jl:360 [inlined]",
      " [12] include_string(mapexpr::typeof(REPL.softscope), mod::Module, code::String, filename::String)",
      "    @ Base ./loading.jl:1094"
     ]
    }
   ],
   "source": [
    "x0 = [0.0, 0.0]\n",
    "mem_tot = 0 \n",
    "\n",
    "mem = @allocated optimize(f, x0)\n",
    "mem_tot += mem\n",
    "println(\"Average memory in [kB] allocated fcjon: $(mem_tot/*1000))\")"
   ]
  },
  {
   "cell_type": "code",
   "execution_count": 17,
   "id": "51198cbc",
   "metadata": {},
   "outputs": [
    {
     "data": {
      "text/plain": [
       "booth (generic function with 1 method)"
      ]
     },
     "execution_count": 17,
     "metadata": {},
     "output_type": "execute_result"
    }
   ],
   "source": [
    "rosenbrock(x) = (1-x[1])^2 + 100*(x[2]-x[1]^2)^2\n",
    "himmelblau(x) =(x[1]^2+x[2]-11)^2+(x[1]+x[2]^2-7)^2\n",
    "booth(x) =(x[1]+2*x[2]-7)^2+(2*x[1]+x[2]-5)^2"
   ]
  },
  {
   "cell_type": "code",
   "execution_count": 9,
   "id": "d5b05871",
   "metadata": {},
   "outputs": [
    {
     "ename": "LoadError",
     "evalue": "MethodError: no method matching LBFGS(; linesearch=BackTracking{Float64, Int64}\n  c_1: Float64 0.0001\n  ρ_hi: Float64 0.5\n  ρ_lo: Float64 0.1\n  iterations: Int64 1000\n  order: Int64 3\n  maxstep: Float64 Inf\n)\n\u001b[0mClosest candidates are:\n\u001b[0m  LBFGS() at /home/michal/Downloads/Poli/algorytmy_inz_danych/projekt/Optimizers/l-bfgs.jl:8\u001b[91m got unsupported keyword argument \"linesearch\"\u001b[39m",
     "output_type": "error",
     "traceback": [
      "MethodError: no method matching LBFGS(; linesearch=BackTracking{Float64, Int64}\n  c_1: Float64 0.0001\n  ρ_hi: Float64 0.5\n  ρ_lo: Float64 0.1\n  iterations: Int64 1000\n  order: Int64 3\n  maxstep: Float64 Inf\n)\n\u001b[0mClosest candidates are:\n\u001b[0m  LBFGS() at /home/michal/Downloads/Poli/algorytmy_inz_danych/projekt/Optimizers/l-bfgs.jl:8\u001b[91m got unsupported keyword argument \"linesearch\"\u001b[39m",
      "",
      "Stacktrace:",
      " [1] top-level scope",
      "   @ In[9]:1",
      " [2] eval",
      "   @ ./boot.jl:360 [inlined]",
      " [3] include_string(mapexpr::typeof(REPL.softscope), mod::Module, code::String, filename::String)",
      "   @ Base ./loading.jl:1094"
     ]
    }
   ],
   "source": [
    "result=optimize(rosenbrock, x0, LBFGS(linesearch = LineSearches.BackTracking()),Optim.Options(extended_trace=true, show_every=0, store_trace = true, show_trace = false))"
   ]
  },
  {
   "cell_type": "code",
   "execution_count": 4,
   "id": "8114ab30",
   "metadata": {},
   "outputs": [
    {
     "name": "stdout",
     "output_type": "stream",
     "text": [
      "BFGS\n",
      "[0.75, 2.0]\n",
      "10.39453125\n",
      "[1.1934630470154866, 1.4349224331658619]\n",
      "0.037986404745810984\n",
      "[1.1853497657939938, 1.4285103747095267]\n",
      "0.037105527473874536\n",
      "[1.1796892259544196, 1.4218865919724293]\n",
      "0.03685443639468315\n",
      "[1.1773171015643373, 1.4188665558773477]\n",
      "0.036817602335546346\n",
      "L-BFGS\n",
      "[0.75, 2.0]\n",
      "10.39453125\n",
      "[1.1934630470154866, 1.4349224331658619]\n",
      "0.037986404745810984\n",
      "[1.1906450171639777, 1.434560446140889]\n",
      "0.037777781948973715\n",
      "[1.1866928521713047, 1.4315194133519304]\n",
      "0.037563893849665304\n",
      "[1.1846527393935042, 1.42956545898022]\n",
      "0.037519237542347615\n",
      "GRADIENT DESCENT\n",
      "[0.75, 2.0]\n",
      "10.39453125\n",
      "[0.8628125, 1.85625]\n",
      "6.199367640144397\n",
      "[0.9614841397674561, 1.745069541015625]\n",
      "3.3685512577401515\n",
      "[1.0411555559608687, 1.663007762016499]\n",
      "1.677915398912775\n",
      "[1.1006156503755304, 1.6051074749856675]\n",
      "0.7853293156015861\n"
     ]
    }
   ],
   "source": [
    "include(\"bfgs.jl\")\n",
    "include(\"l-bfgs.jl\")\n",
    "include(\"gd.jl\")\n",
    "\n",
    "rosenbrock(x; a=1, b=5) = (a-x[1])^2 + b*(x[2] - x[1]^2)^2\n",
    "rosenbrockGrad(x; a=1, b=5) = [2*(x[1]-a)-2*b*x[1]*(x[2]-x[1]^2), 2*b*(x[2] - x[1]^2)]\n",
    "\n",
    "mem_tot = 0 \n",
    "\n",
    "M=BFGS()\n",
    "myBFGS = init!(M,[0.75, 2.0])\n",
    "θ = [0.75, 2.0]\n",
    "println(\"BFGS\")\n",
    "for i in 1:5\n",
    "    global θ\n",
    "    println(θ)\n",
    "    println(rosenbrock(θ))\n",
    "    θ′ = step!(myBFGS,rosenbrock,rosenbrockGrad, θ)\n",
    "    θ = θ′\n",
    "end\n",
    "\n",
    "M=LBFGS()\n",
    "myLBFGS = init!(M,2) #im wikeszy 2 parametr tym wiecej pamieci i lepsze wyniki\n",
    "θ2 = [0.75, 2.0]\n",
    "println(\"L-BFGS\")\n",
    "for i in 1:5\n",
    "    global θ2\n",
    "    println(θ2)\n",
    "    println(rosenbrock(θ2))\n",
    "    θ′2 = step!(myLBFGS,rosenbrock,rosenbrockGrad, θ2)\n",
    "    θ2 = θ′2\n",
    "end\n",
    "\n",
    "M=GD()\n",
    "myGD = init!(M,0.01) #im wikeszy 2 parametr tym wiecej pamieci i lepsze wyniki\n",
    "θ3 = [0.75, 2.0]\n",
    "println(\"GRADIENT DESCENT\")\n",
    "for i in 1:5\n",
    "    global θ3\n",
    "    println(θ3)\n",
    "    println(rosenbrock(θ3))\n",
    "    θ′3 = step!(myGD,rosenbrock,rosenbrockGrad, θ3)\n",
    "    θ3 = θ′3\n",
    "end"
   ]
  }
 ],
 "metadata": {
  "kernelspec": {
   "display_name": "Julia 1.6.1",
   "language": "julia",
   "name": "julia-1.6"
  },
  "language_info": {
   "file_extension": ".jl",
   "mimetype": "application/julia",
   "name": "julia",
   "version": "1.6.1"
  }
 },
 "nbformat": 4,
 "nbformat_minor": 5
}
